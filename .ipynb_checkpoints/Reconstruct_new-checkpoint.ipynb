{
 "cells": [
  {
   "cell_type": "code",
   "execution_count": 215,
   "metadata": {},
   "outputs": [],
   "source": [
    "import numpy as np\n",
    "import glob\n",
    "import cv2\n",
    "from imguidedfilter import imguidedfilter"
   ]
  },
  {
   "cell_type": "code",
   "execution_count": 216,
   "metadata": {},
   "outputs": [],
   "source": [
    "# Variables\n",
    "\n",
    "crop = 1\n",
    "adjust = 1\n",
    "\n",
    "direc = '/home/jeff/Documents/Ultrascan/Matlab/Plantar/Scan_3d__bmp/'\n",
    "\n",
    "padSide = 0\n",
    "numSlices = 512  # Number of rotational slices\n",
    "rotTot = 255     # Total rotation sweep in degrees\n",
    "probeID = 0\n",
    "imgW = 640       # slice image width\n",
    "imgH = 480       # slice image height\n",
    "thic = 1         # Thicknes of slice in pixels\n",
    "interval = 1     # Interval between slices, 1 => use all slices\n",
    "depth = 12       # Depth of scan in cm\n",
    "dia = 16         # Diameter of circle in cm\n",
    "filtSize1 = 1\n",
    "filtSize2 = 1"
   ]
  },
  {
   "cell_type": "code",
   "execution_count": 217,
   "metadata": {},
   "outputs": [
    {
     "name": "stdout",
     "output_type": "stream",
     "text": [
      "Index 1 \n",
      "Depth 120 \n",
      "Frequency: 7500 \n",
      "High_Voltage: 50 \n",
      "Focus: 60 \n",
      "Main_Gain: -1.25 \n",
      "Dynamic: 65 \n",
      "TGC_Near: 0 \n",
      "TGC_Middle: 0 \n",
      "TGC_Far: -40 \n",
      "Doubler: True \n",
      "Compound: False \n",
      "Compound_Angle: 0 \n",
      "Steering: 0 \n",
      "Number_of_Lines: 127 \n",
      "Probe_ID: 512 \n",
      "Width: 640 \n",
      "Height: 480 \n",
      "Number_Images: 588 \n",
      "Sweep_Angle: 256 \n",
      "Radius: 7.75 \n"
     ]
    }
   ],
   "source": [
    "# Opens the file and store the text in a 2d array\n",
    "\n",
    "direc_to_data_txt = direc + 'Scan_3d__data.txt'\n",
    "\n",
    "fileID = open(direc_to_data_txt)\n",
    "data_txt_2d = np.genfromtxt(fileID,dtype='str')\n",
    "fileID.close()\n",
    "\n",
    "for i in range(len(data_txt_2d)):\n",
    "    for j in range(len(data_txt_2d[i])):\n",
    "        print(data_txt_2d[i][j], end=\" \")\n",
    "    print()"
   ]
  },
  {
   "cell_type": "code",
   "execution_count": 235,
   "metadata": {},
   "outputs": [],
   "source": [
    "probeID = int(data_txt_2d[15][1])\n",
    "imgW = int(data_txt_2d[16][1])\n",
    "imgH =  int(data_txt_2d[17][1])\n",
    "imgDepth = int(data_txt_2d[1][1]) / 10\n",
    "rotTot = int(data_txt_2d[19][1])\n",
    "dia = float(data_txt_2d[20][1]) * 2\n",
    "\n",
    "# print(probeID)\n",
    "# print(imgW)\n",
    "# print(imgH)\n",
    "# print(depth)\n",
    "# print(rotTot)\n",
    "# print(dia)"
   ]
  },
  {
   "cell_type": "code",
   "execution_count": 236,
   "metadata": {},
   "outputs": [],
   "source": [
    "# This is to crop the sides of the image in the conical shape for 7.5 Hz\n",
    "# b is the value that corresponds to guardband and cone edges\n",
    "# m is the value that corresponds to the diagonal\n",
    "b = 70 # these b and m values are the original ones that Austeen had\n",
    "m = .5\n",
    "gband = 0\n",
    "\n",
    "if (probeID == 512):\n",
    "    if (imgDepth == 4):\n",
    "        b = 0;\n",
    "        m = 0\n",
    "    elif (imgDepth == 8):\n",
    "        b = 70\n",
    "        m = 0.5\n",
    "    elif (imgDepth == 12):  \n",
    "        b = 0\n",
    "        m = 0\n",
    "    elif (imgDepth == 16): \n",
    "        b = 0\n",
    "        m = 0\n",
    "elif (probeID == 256): \n",
    "    if (imgDepth == 2):\n",
    "        b = 320\n",
    "    elif (imgDepth == 4):\n",
    "        b = 200 + gband  \n",
    "    elif (imgDepth == 6):   \n",
    "        b = 132.5 + gband; \n",
    "    elif (imgDepth == 8):\n",
    "        b = 100 + gband\n",
    "    elif (imgDepth == 10): \n",
    "        b = 80 + gband"
   ]
  },
  {
   "cell_type": "code",
   "execution_count": 239,
   "metadata": {},
   "outputs": [],
   "source": [
    "# Taking the first part of the image to crop the top area \n",
    "# where it is convex\n",
    "cropTop = round(imgH / (imgDepth * 4))\n",
    "\n",
    "# Bottom tangent line to the circle of imaging\n",
    "# will be used to crop the bottom of the image\n",
    "cropBottom = imgH - round((imgDepth - dia / 2) * imgH / imgDepth)\n",
    "\n",
    "# Pixels to pad array for rotation\n",
    "# so that we do not lose any data while slicing\n",
    "cropPadSide = round((dia - imgDepth) * imgH / imgDepth)\n",
    "\n",
    "if (cropPadSide < 0):\n",
    "    # Only in case of 16cm imaging - need to pad sides to prevent loss\n",
    "    cropPadSide = abs(cropPadSide)\n",
    "    padSide = 1\n",
    "else:\n",
    "    padSide = 0"
   ]
  },
  {
   "cell_type": "code",
   "execution_count": 240,
   "metadata": {},
   "outputs": [],
   "source": [
    "# Pixels to take off sides\n",
    "# Based on the C# code in the software sdk we have settings of 4cm interval\n",
    "# We can adjust the C# code and get intervals of 2cm as well\n",
    "cropSide_d5 = 0\n",
    "\n",
    "if (imgDepth == 4):\n",
    "    imgW = 640\n",
    "    startPix = 80 # What is startPix? I don't see it initialized anywhere else\n",
    "if (imgDepth == 8):\n",
    "    imgW = 640\n",
    "    startPix = 200\n",
    "if (imgDepth == 12):\n",
    "    imgW = 640\n",
    "    startPix = 240\n",
    "if (imgDepth == 16):\n",
    "    imgW = 640\n",
    "    startPix = 260"
   ]
  },
  {
   "cell_type": "code",
   "execution_count": 243,
   "metadata": {},
   "outputs": [
    {
     "name": "stdout",
     "output_type": "stream",
     "text": [
      "Cropping Images: ON\n",
      "Adjusting Images: ON\n",
      "Always adjust the number of silces analyzed and always adjust the rotation angle of the images\n"
     ]
    }
   ],
   "source": [
    "# For our knowledge\n",
    "if (crop == 1):\n",
    "    print(\"Cropping Images: ON\")\n",
    "else:\n",
    "    print(\"Cropping Images: OFF\")\n",
    "\n",
    "# For our knowledge\n",
    "if (adjust == 1):\n",
    "    print(\"Adjusting Images: ON\")\n",
    "else:\n",
    "    print(\"Adjusting Images: OFF\")\n",
    "    \n",
    "print(\"Always adjust the number of silces analyzed and always adjust the rotation angle of the images\")"
   ]
  },
  {
   "cell_type": "code",
   "execution_count": 250,
   "metadata": {},
   "outputs": [
    {
     "name": "stdout",
     "output_type": "stream",
     "text": [
      "Directory: /home/jeff/Documents/Ultrascan/Matlab/Plantar/Scan_3d__bmp/\n",
      "Number of slices: 588\n",
      "Diameter: 15.5\n",
      "Rotation Angle: 256\n"
     ]
    }
   ],
   "source": [
    "# Places all the file paths to the images in nf\n",
    "direc_to_bitmaps = direc + 'Scan_3d__bmp/' + 'Image_*_*_*.bmp'\n",
    "nf = glob.glob(direc_to_bitmaps)\n",
    "\n",
    "# Sorts nf by image number\n",
    "image_number = [0] * len(nf)\n",
    "\n",
    "for i in range(len(nf)):\n",
    "    image_number[i] = int(nf[i].replace(direc + \"Scan_3d__bmp/Image_\", \"\").split(\"_\")[0])\n",
    "    \n",
    "image_number = np.array(image_number)\n",
    "indices = np.argsort(image_number)\n",
    "nf_placeholder = nf.copy() # Without copy, it would just point back to nf\n",
    "\n",
    "for i in range(len(indices)):\n",
    "    nf[i] = nf_placeholder[indices[i]]\n",
    "    \n",
    "numSlices = len(nf)\n",
    "\n",
    "print(\"Directory: \" + direc)\n",
    "print(\"Number of slices: \" + str(numSlices))\n",
    "print(\"Diameter: \" + str(dia))\n",
    "print(\"Rotation Angle: \" + str(rotTot))\n",
    "\n",
    "rotInc = rotTot / numSlices # Degrees rotated between slices"
   ]
  },
  {
   "cell_type": "code",
   "execution_count": 251,
   "metadata": {},
   "outputs": [
    {
     "name": "stdout",
     "output_type": "stream",
     "text": [
      "Reconstructing...\n"
     ]
    }
   ],
   "source": [
    "# Creates a 3d array of zeroes of size [imgH + d3, imgW, imgH + d3]\n",
    "summed = np.uint8(np.zeros((imgH + d3, imgW, imgH + d3)))\n",
    "[L,W,H]= summed.shape\n",
    "\n",
    "print(\"Reconstructing...\")"
   ]
  },
  {
   "cell_type": "code",
   "execution_count": 229,
   "metadata": {
    "scrolled": true
   },
   "outputs": [
    {
     "name": "stdout",
     "output_type": "stream",
     "text": [
      "[0 0 0]\n"
     ]
    },
    {
     "ename": "ValueError",
     "evalue": "The truth value of an array with more than one element is ambiguous. Use a.any() or a.all()",
     "output_type": "error",
     "traceback": [
      "\u001b[0;31m---------------------------------------------------------------------------\u001b[0m",
      "\u001b[0;31mValueError\u001b[0m                                Traceback (most recent call last)",
      "\u001b[0;32m<ipython-input-229-bbcd9fdf62da>\u001b[0m in \u001b[0;36m<module>\u001b[0;34m\u001b[0m\n\u001b[1;32m     29\u001b[0m             \u001b[0mtest\u001b[0m \u001b[0;34m=\u001b[0m \u001b[0mrawImg\u001b[0m\u001b[0;34m[\u001b[0m\u001b[0mm\u001b[0m \u001b[0;34m+\u001b[0m \u001b[0;36m6\u001b[0m\u001b[0;34m,\u001b[0m \u001b[0mk\u001b[0m\u001b[0;34m]\u001b[0m\u001b[0;34m\u001b[0m\u001b[0;34m\u001b[0m\u001b[0m\n\u001b[1;32m     30\u001b[0m             \u001b[0mprint\u001b[0m\u001b[0;34m(\u001b[0m\u001b[0mtest\u001b[0m\u001b[0;34m)\u001b[0m\u001b[0;34m\u001b[0m\u001b[0;34m\u001b[0m\u001b[0m\n\u001b[0;32m---> 31\u001b[0;31m             \u001b[0;32mif\u001b[0m \u001b[0;34m(\u001b[0m\u001b[0;34m(\u001b[0m\u001b[0mrawImg\u001b[0m\u001b[0;34m[\u001b[0m\u001b[0mm\u001b[0m \u001b[0;34m+\u001b[0m \u001b[0;36m6\u001b[0m\u001b[0;34m,\u001b[0m \u001b[0mk\u001b[0m\u001b[0;34m]\u001b[0m \u001b[0;34m/\u001b[0m \u001b[0;36m7\u001b[0m \u001b[0;34m+\u001b[0m \u001b[0mrawImg\u001b[0m\u001b[0;34m[\u001b[0m\u001b[0mm\u001b[0m \u001b[0;34m+\u001b[0m \u001b[0;36m5\u001b[0m\u001b[0;34m,\u001b[0m \u001b[0mk\u001b[0m\u001b[0;34m]\u001b[0m \u001b[0;34m/\u001b[0m \u001b[0;36m7\u001b[0m \u001b[0;34m+\u001b[0m \u001b[0mrawImg\u001b[0m\u001b[0;34m[\u001b[0m\u001b[0mm\u001b[0m \u001b[0;34m+\u001b[0m \u001b[0;36m4\u001b[0m\u001b[0;34m,\u001b[0m \u001b[0mk\u001b[0m\u001b[0;34m]\u001b[0m \u001b[0;34m/\u001b[0m \u001b[0;36m7\u001b[0m \u001b[0;34m+\u001b[0m \u001b[0mrawImg\u001b[0m\u001b[0;34m[\u001b[0m\u001b[0mm\u001b[0m \u001b[0;34m+\u001b[0m \u001b[0;36m3\u001b[0m\u001b[0;34m,\u001b[0m \u001b[0mk\u001b[0m\u001b[0;34m]\u001b[0m \u001b[0;34m/\u001b[0m \u001b[0;36m7\u001b[0m \u001b[0;34m+\u001b[0m \u001b[0mrawImg\u001b[0m\u001b[0;34m[\u001b[0m\u001b[0mm\u001b[0m \u001b[0;34m+\u001b[0m \u001b[0;36m2\u001b[0m\u001b[0;34m,\u001b[0m \u001b[0mk\u001b[0m\u001b[0;34m]\u001b[0m \u001b[0;34m/\u001b[0m \u001b[0;36m7\u001b[0m \u001b[0;34m+\u001b[0m \u001b[0mrawImg\u001b[0m\u001b[0;34m[\u001b[0m\u001b[0mm\u001b[0m \u001b[0;34m+\u001b[0m \u001b[0;36m1\u001b[0m\u001b[0;34m,\u001b[0m \u001b[0mk\u001b[0m\u001b[0;34m]\u001b[0m \u001b[0;34m/\u001b[0m \u001b[0;36m7\u001b[0m \u001b[0;34m+\u001b[0m \u001b[0mrawImg\u001b[0m\u001b[0;34m[\u001b[0m\u001b[0mm\u001b[0m\u001b[0;34m,\u001b[0m \u001b[0mk\u001b[0m\u001b[0;34m]\u001b[0m \u001b[0;34m/\u001b[0m \u001b[0;36m7\u001b[0m\u001b[0;34m)\u001b[0m \u001b[0;34m>\u001b[0m \u001b[0;36m90\u001b[0m\u001b[0;34m)\u001b[0m\u001b[0;34m:\u001b[0m\u001b[0;34m\u001b[0m\u001b[0;34m\u001b[0m\u001b[0m\n\u001b[0m\u001b[1;32m     32\u001b[0m                 \u001b[0;32mbreak\u001b[0m\u001b[0;34m\u001b[0m\u001b[0;34m\u001b[0m\u001b[0m\n\u001b[1;32m     33\u001b[0m             \u001b[0mrawImg\u001b[0m\u001b[0;34m[\u001b[0m\u001b[0mm\u001b[0m\u001b[0;34m,\u001b[0m \u001b[0mk\u001b[0m\u001b[0;34m]\u001b[0m \u001b[0;34m=\u001b[0m \u001b[0;34m-\u001b[0m\u001b[0;36m1\u001b[0m\u001b[0;34m\u001b[0m\u001b[0;34m\u001b[0m\u001b[0m\n",
      "\u001b[0;31mValueError\u001b[0m: The truth value of an array with more than one element is ambiguous. Use a.any() or a.all()"
     ]
    }
   ],
   "source": [
    "# Loops from 1 to numSlices in increments of interval\n",
    "for i in range(1, numSlices, interval):\n",
    "    # Make sure that it's accessing all the files\n",
    "    filename = nf[i]\n",
    "    rawImg = cv2.imread(filename)\n",
    "    rawImg = np.array(rawImg)\n",
    "    height, width, channels = rawImg.shape\n",
    "    \n",
    "    # if adjust == 1:\n",
    "        # Find a functions similar to this later\n",
    "        # rawImg = imguidedfilter(rawImg, 'NeighborhoodSize',[filtSize1 filtSize1], 'DegreeOfSmoothing', 0.01*diff(getrangefromclass(rawImg)).^2);\n",
    "        # rawImg = imadjust(rawImg,[0.05, 0.8],[0, 1])\n",
    "        \n",
    "    if crop == 1:\n",
    "        rawImg[0: d1 - 1, 0: width - 1] = 0\n",
    "        rawImg[d2 - 1: height, 0: width - 1] = 0\n",
    "        \n",
    "    for q in range(1, imgH):\n",
    "        d4 = imgW / 2 - (m * q + b)\n",
    "        rawImg[q - 1, 0: int(d4) - 1] = 0\n",
    "        rawImg[q - 1, imgW - int(d4) - 1: imgW - 1] = 0\n",
    "        \n",
    "    # Changes row 0 to all -1\n",
    "    rawImg[0, 0: width - 1] = -1\n",
    "    \n",
    "    # Which dimension for rawImg.shape should k be incrementing towards?\n",
    "    for k in range(1, width):\n",
    "        for m in range(1, height - 6):\n",
    "            test = rawImg[m + 6, k]\n",
    "            print(test)\n",
    "            if ((rawImg[m + 6, k] / 7 + rawImg[m + 5, k] / 7 + rawImg[m + 4, k] / 7 + rawImg[m + 3, k] / 7 + rawImg[m + 2, k] / 7 + rawImg[m + 1, k] / 7 + rawImg[m, k] / 7) > 90):\n",
    "                break\n",
    "            rawImg[m, k] = -1\n",
    "         "
   ]
  }
 ],
 "metadata": {
  "kernelspec": {
   "display_name": "Python 3",
   "language": "python",
   "name": "python3"
  },
  "language_info": {
   "codemirror_mode": {
    "name": "ipython",
    "version": 3
   },
   "file_extension": ".py",
   "mimetype": "text/x-python",
   "name": "python",
   "nbconvert_exporter": "python",
   "pygments_lexer": "ipython3",
   "version": "3.8.2"
  }
 },
 "nbformat": 4,
 "nbformat_minor": 4
}
