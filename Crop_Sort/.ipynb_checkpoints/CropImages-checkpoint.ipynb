{
 "cells": [
  {
   "cell_type": "code",
   "execution_count": 56,
   "metadata": {},
   "outputs": [],
   "source": [
    "import glob\n",
    "import cv2\n",
    "import matplotlib.pyplot as plt"
   ]
  },
  {
   "cell_type": "code",
   "execution_count": 57,
   "metadata": {},
   "outputs": [],
   "source": [
    "# Gets all of the images from a folder and stores it in matfiles. \n",
    "direc = '/home/jeff/Documents/Ultrascan/Ultrascan_Py/Crop_Sort/Test_Images/'\n",
    "matfiles = glob.glob(direc + '*')\n",
    "\n",
    "nfiles = len(matfiles)"
   ]
  },
  {
   "cell_type": "code",
   "execution_count": 58,
   "metadata": {},
   "outputs": [],
   "source": [
    "# Loops through all the images and makes a cropped version\n",
    "# that is then written into whereever this file is locoated. \n",
    "for i in range(nfiles):\n",
    "    img_name = matfiles[i].replace(direc, '').replace('.bmp', '')\n",
    "    img_number = int(img_name.split(\"_\")[1])\n",
    "    \n",
    "    img = cv2.imread(matfiles[i])\n",
    "    crop_img = img[0: 640, 0: 640]\n",
    "    \n",
    "    if (img_number < 10):\n",
    "        cv2.imwrite('image_000' + str(img_number) + '.bmp', crop_img)\n",
    "    elif (img_number < 100):\n",
    "        cv2.imwrite('image_00' + str(img_number) + '.bmp', crop_img)\n",
    "    elif (img_number < 1000):\n",
    "        cv2.imwrite('image_0' + str(img_number) + '.bmp', crop_img)\n",
    "    elif (img_number < 10000):\n",
    "        cv2.imwrite('image_' + str(img_number) + '.bmp', crop_img)"
   ]
  }
 ],
 "metadata": {
  "kernelspec": {
   "display_name": "Python 3",
   "language": "python",
   "name": "python3"
  },
  "language_info": {
   "codemirror_mode": {
    "name": "ipython",
    "version": 3
   },
   "file_extension": ".py",
   "mimetype": "text/x-python",
   "name": "python",
   "nbconvert_exporter": "python",
   "pygments_lexer": "ipython3",
   "version": "3.8.2"
  }
 },
 "nbformat": 4,
 "nbformat_minor": 4
}
