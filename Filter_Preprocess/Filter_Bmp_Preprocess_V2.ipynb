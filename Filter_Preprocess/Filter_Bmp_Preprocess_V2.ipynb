{
 "cells": [
  {
   "cell_type": "code",
   "execution_count": 1,
   "metadata": {},
   "outputs": [],
   "source": [
    "import numpy as np\n",
    "import cv2\n",
    "import matplotlib.pyplot as plt\n",
    "import glob\n",
    "import os"
   ]
  },
  {
   "cell_type": "code",
   "execution_count": 2,
   "metadata": {},
   "outputs": [],
   "source": [
    "def remove_blackspots(img):\n",
    "    # Tranposes Img1 then flattens by rows.\n",
    "    # Same thing as flattening Img1 by columns.\n",
    "    Img1_V = np.transpose(img, (1, 0)).flatten()\n",
    "    \n",
    "    # Returns indices of the zero elements.\n",
    "    # Turns all the 0s to 128s, essentially removes the black spots.\n",
    "    Zeros_Img1 = np.where(np.array(Img1_V) == 0)[0]\n",
    "    \n",
    "    for i in range(0, len(Zeros_Img1)):\n",
    "        j = Zeros_Img1[i]\n",
    "        Img1_V[j] = 128\n",
    "    \n",
    "    [length, width] = img.shape\n",
    "    \n",
    "    Img1_V_Gray = np.reshape(Img1_V, (width, length))\n",
    "    Img1_V_Gray_true = np.transpose(Img1_V_Gray, (1, 0))\n",
    "    \n",
    "    return Img1_V_Gray_true"
   ]
  },
  {
   "cell_type": "code",
   "execution_count": 3,
   "metadata": {},
   "outputs": [],
   "source": [
    "# g(x) = a * f(x) + b\n",
    "# a and b are gain and bias parameters, said to control\n",
    "# constrast and brightness respectively. \n",
    "\n",
    "def increase_contrast(img, alpha):\n",
    "    # np.clip clips all the values to fit between the set interval\n",
    "    # Using np.array is faster than using 2 nested for loops to\n",
    "    # change each element. \n",
    "    img = np.clip(np.array(img) * alpha, 0, 255)\n",
    "    \n",
    "    return img"
   ]
  },
  {
   "cell_type": "code",
   "execution_count": 4,
   "metadata": {},
   "outputs": [],
   "source": [
    "def increase_sharpness(img):\n",
    "    # Kernel for sharpening\n",
    "    kernel = np.array([[ 0, -1,  0],\n",
    "                       [-1,  5, -1],\n",
    "                       [ 0, -1,  0]])\n",
    "    \n",
    "    # Sharpen the image\n",
    "    img = cv2.filter2D(img, -1, kernel)\n",
    "    \n",
    "    return img"
   ]
  },
  {
   "cell_type": "code",
   "execution_count": 5,
   "metadata": {},
   "outputs": [
    {
     "name": "stdout",
     "output_type": "stream",
     "text": [
      "Folder was already created\n"
     ]
    }
   ],
   "source": [
    "# Gets all the bmps and places it in a variable\n",
    "direc = '/home/jeff/Documents/Ultrascan/Ultrascan_Py/Plantar/Scan_3d__bmp/'\n",
    "nf = glob.glob(direc + 'Scan_3d__bmp/Image_*_*_*.bmp')\n",
    "\n",
    "# Creates a folder to store the newly processed images.\n",
    "try:\n",
    "    os.mkdir(direc + 'Preprocessed_Images')\n",
    "except FileExistsError as e:\n",
    "    print(\"Folder was already created\")\n",
    "\n",
    "# Path to newly created folder. \n",
    "path_to_preprocessed_images = direc + 'Preprocessed_Images/'"
   ]
  },
  {
   "cell_type": "code",
   "execution_count": null,
   "metadata": {},
   "outputs": [],
   "source": [
    "for i in range(len(nf)):\n",
    "    # Print out the slice number\n",
    "    print(\"Slice number: \" + str(i + 1))\n",
    "    \n",
    "    # Remove the blackspots from the img\n",
    "    img = cv2.imread(nf[i], cv2.IMREAD_GRAYSCALE)\n",
    "    img = remove_blackspots(img)   \n",
    "    \n",
    "    # Increase sharpness\n",
    "    img = increase_sharpness(img)\n",
    "    \n",
    "    # Increase constrast\n",
    "    img = increase_contrast(img, 1.4)\n",
    "    \n",
    "    # Writes to the folder containing the folder with all the scans\n",
    "    filename = nf[i].replace(direc, '').replace('Scan_3d__bmp/', '')\n",
    "    cv2.imwrite(path_to_preprocessed_images + filename, img)"
   ]
  }
 ],
 "metadata": {
  "kernelspec": {
   "display_name": "Python 3",
   "language": "python",
   "name": "python3"
  },
  "language_info": {
   "codemirror_mode": {
    "name": "ipython",
    "version": 3
   },
   "file_extension": ".py",
   "mimetype": "text/x-python",
   "name": "python",
   "nbconvert_exporter": "python",
   "pygments_lexer": "ipython3",
   "version": "3.8.2"
  }
 },
 "nbformat": 4,
 "nbformat_minor": 4
}
