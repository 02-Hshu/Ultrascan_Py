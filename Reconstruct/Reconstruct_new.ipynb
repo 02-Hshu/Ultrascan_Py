{
 "cells": [
  {
   "cell_type": "code",
   "execution_count": 24,
   "metadata": {
    "scrolled": true
   },
   "outputs": [],
   "source": [
    "# Make sure to install these libraries\n",
    "# pip install numpy\n",
    "# pip install glob2\n",
    "# pip install opencv-python\n",
    "\n",
    "import numpy as np\n",
    "import skimage.transform\n",
    "import glob\n",
    "import cv2\n",
    "import math\n",
    "import os\n",
    "from scipy import ndimage"
   ]
  },
  {
   "cell_type": "code",
   "execution_count": 3,
   "metadata": {},
   "outputs": [],
   "source": [
    "# Variables\n",
    "crop = 1\n",
    "adjust = 1\n",
    "\n",
    "# Instead of hard-coding, implement a file finder\n",
    "# Change the directory specific to your computer\n",
    "# If you're using Windows, use 2 backslashes (\\) instead of 1 foward slash (/)\n",
    "direc = '/home/jeff/Documents/Ultrascan/Ultrascan_Py/Plantar/Scan_3d__bmp/'\n",
    "\n",
    "padSide = 0\n",
    "numSlices = 512  # Number of rotational slices\n",
    "rotTot = 255     # Total rotation sweep in degrees\n",
    "probeID = 0\n",
    "imgW = 640       # slice image width\n",
    "imgH = 480       # slice image height\n",
    "thic = 3         # Thicknes of slice in pixels\n",
    "interval = 1     # Interval between slices, 1 => use all slices\n",
    "imgDepth = 12    # Depth of scan in cm\n",
    "dia = 16         # Diameter of circle in cm\n",
    "filtSize1 = 1\n",
    "filtSize2 = 1"
   ]
  },
  {
   "cell_type": "code",
   "execution_count": 4,
   "metadata": {},
   "outputs": [
    {
     "name": "stdout",
     "output_type": "stream",
     "text": [
      "Index 1 \n",
      "Depth 120 \n",
      "Frequency: 7500 \n",
      "High_Voltage: 50 \n",
      "Focus: 60 \n",
      "Main_Gain: -1.25 \n",
      "Dynamic: 65 \n",
      "TGC_Near: 0 \n",
      "TGC_Middle: 0 \n",
      "TGC_Far: -40 \n",
      "Doubler: True \n",
      "Compound: False \n",
      "Compound_Angle: 0 \n",
      "Steering: 0 \n",
      "Number_of_Lines: 127 \n",
      "Probe_ID: 512 \n",
      "Width: 640 \n",
      "Height: 480 \n",
      "Number_Images: 588 \n",
      "Sweep_Angle: 256 \n",
      "Radius: 7.75 \n"
     ]
    }
   ],
   "source": [
    "# Opens the file and store the text in a 2d array\n",
    "direc_to_data_txt = direc + 'Scan_3d__data.txt'\n",
    "\n",
    "fileID = open(direc_to_data_txt)\n",
    "data_txt_2d = np.genfromtxt(fileID,dtype='str')\n",
    "fileID.close()\n",
    "\n",
    "for i in range(len(data_txt_2d)):\n",
    "    for j in range(len(data_txt_2d[i])):\n",
    "        print(data_txt_2d[i][j], end=\" \")\n",
    "    print()"
   ]
  },
  {
   "cell_type": "code",
   "execution_count": 5,
   "metadata": {},
   "outputs": [],
   "source": [
    "probeID = int(data_txt_2d[15][1])\n",
    "imgW = int(data_txt_2d[16][1])\n",
    "imgH =  int(data_txt_2d[17][1])\n",
    "imgDepth = int(data_txt_2d[1][1]) / 10\n",
    "rotTot = int(data_txt_2d[19][1])\n",
    "dia = float(data_txt_2d[20][1]) * 2\n",
    "\n",
    "# print(probeID)\n",
    "# print(imgW)\n",
    "# print(imgH)\n",
    "# print(depth)\n",
    "# print(rotTot)\n",
    "# print(dia)"
   ]
  },
  {
   "cell_type": "code",
   "execution_count": 6,
   "metadata": {},
   "outputs": [],
   "source": [
    "# This is to crop the sides of the image in the conical shape for 7.5 Hz\n",
    "# b is the value that corresponds to guardband and cone edges\n",
    "# m is the value that corresponds to the diagonal\n",
    "b = 70 # these b and m values are the original ones that Austeen had\n",
    "m = .5\n",
    "gband = 0\n",
    "\n",
    "if (probeID == 512):\n",
    "    if (imgDepth == 4):\n",
    "        b = 0;\n",
    "        m = 0\n",
    "    elif (imgDepth == 8):\n",
    "        b = 70\n",
    "        m = 0.5\n",
    "    elif (imgDepth == 12):  \n",
    "        b = 0\n",
    "        m = 0\n",
    "    elif (imgDepth == 16): \n",
    "        b = 0\n",
    "        m = 0\n",
    "elif (probeID == 256): \n",
    "    if (imgDepth == 2):\n",
    "        b = 320\n",
    "    elif (imgDepth == 4):\n",
    "        b = 200 + gband  \n",
    "    elif (imgDepth == 6):   \n",
    "        b = 132.5 + gband; \n",
    "    elif (imgDepth == 8):\n",
    "        b = 100 + gband\n",
    "    elif (imgDepth == 10): \n",
    "        b = 80 + gband"
   ]
  },
  {
   "cell_type": "code",
   "execution_count": 7,
   "metadata": {},
   "outputs": [],
   "source": [
    "# Taking the first part of the image to crop the top area \n",
    "# where it is convex\n",
    "cropTop = round(imgH / (imgDepth * 4))\n",
    "\n",
    "# Bottom tangent line to the circle of imaging\n",
    "# will be used to crop the bottom of the image\n",
    "cropBottom = imgH - round((imgDepth - dia / 2) * imgH / imgDepth)\n",
    "\n",
    "# Pixels to pad array for rotation\n",
    "# so that we do not lose any data while slicing\n",
    "cropPadSide = round((dia - imgDepth) * imgH / imgDepth)\n",
    "\n",
    "if (cropPadSide < 0):\n",
    "    # Only in case of 16cm imaging - need to pad sides to prevent loss\n",
    "    cropPadSide = abs(cropPadSide)\n",
    "    padSide = 1\n",
    "else:\n",
    "    padSide = 0"
   ]
  },
  {
   "cell_type": "code",
   "execution_count": 8,
   "metadata": {},
   "outputs": [
    {
     "data": {
      "text/plain": [
       "\"\\nif (imgDepth == 4):\\n    imgW = 640\\n    startPix = 80 # What is startPix? I don't see it initialized anywhere else\\nif (imgDepth == 8):\\n    imgW = 640\\n    startPix = 200\\nif (imgDepth == 12):\\n    imgW = 640\\n    startPix = 240\\nif (imgDepth == 16):\\n    imgW = 640\\n    startPix = 260\\n\""
      ]
     },
     "execution_count": 8,
     "metadata": {},
     "output_type": "execute_result"
    }
   ],
   "source": [
    "# Pixels to take off sides\n",
    "# Based on the C# code in the software sdk we have settings of 4cm interval\n",
    "# We can adjust the C# code and get intervals of 2cm as well\n",
    "imgW = 640 \n",
    "cropSide_d5 = 0\n",
    "startPix = 0\n",
    "\n",
    "'''\n",
    "if (imgDepth == 4):\n",
    "    imgW = 640\n",
    "    startPix = 80 # What is startPix? I don't see it initialized anywhere else\n",
    "if (imgDepth == 8):\n",
    "    imgW = 640\n",
    "    startPix = 200\n",
    "if (imgDepth == 12):\n",
    "    imgW = 640\n",
    "    startPix = 240\n",
    "if (imgDepth == 16):\n",
    "    imgW = 640\n",
    "    startPix = 260\n",
    "'''"
   ]
  },
  {
   "cell_type": "code",
   "execution_count": 9,
   "metadata": {},
   "outputs": [
    {
     "name": "stdout",
     "output_type": "stream",
     "text": [
      "Cropping Images: ON\n",
      "Adjusting Images: ON\n",
      "Always adjust the number of silces analyzed and always adjust the rotation angle of the images\n"
     ]
    }
   ],
   "source": [
    "# For our knowledge\n",
    "if (crop == 1):\n",
    "    print(\"Cropping Images: ON\")\n",
    "else:\n",
    "    print(\"Cropping Images: OFF\")\n",
    "\n",
    "# For our knowledge\n",
    "if (adjust == 1):\n",
    "    print(\"Adjusting Images: ON\")\n",
    "else:\n",
    "    print(\"Adjusting Images: OFF\")\n",
    "    \n",
    "print(\"Always adjust the number of silces analyzed and always adjust the rotation angle of the images\")"
   ]
  },
  {
   "cell_type": "code",
   "execution_count": 10,
   "metadata": {},
   "outputs": [
    {
     "name": "stdout",
     "output_type": "stream",
     "text": [
      "Directory: /home/jeff/Documents/Ultrascan/Ultrascan_Py/Plantar/Scan_3d__bmp/\n",
      "Number of slices: 588\n",
      "Diameter: 15.5\n",
      "Rotation Angle: 256\n"
     ]
    }
   ],
   "source": [
    "# Places all the file paths to the images in nf\n",
    "direc_to_bitmaps = direc + 'Scan_3d__bmp/' + 'Image_*_*_*.bmp'\n",
    "nf = glob.glob(direc_to_bitmaps)\n",
    "\n",
    "# Sorts nf by image number\n",
    "image_number = [0] * len(nf)\n",
    "\n",
    "for i in range(len(nf)):\n",
    "    image_number[i] = int(nf[i].replace(direc + \"Scan_3d__bmp/Image_\", \"\").split(\"_\")[0])\n",
    "    \n",
    "image_number = np.array(image_number)\n",
    "indices = np.argsort(image_number)\n",
    "nf_placeholder = nf.copy() # Without copy, it would just point back to nf\n",
    "\n",
    "for i in range(len(indices)):\n",
    "    nf[i] = nf_placeholder[indices[i]]\n",
    "    \n",
    "numSlices = len(nf)\n",
    "\n",
    "print(\"Directory: \" + direc)\n",
    "print(\"Number of slices: \" + str(numSlices))\n",
    "print(\"Diameter: \" + str(dia))\n",
    "print(\"Rotation Angle: \" + str(rotTot))\n",
    "\n",
    "rotInc = rotTot / numSlices # Degrees rotated between slices"
   ]
  },
  {
   "cell_type": "code",
   "execution_count": 11,
   "metadata": {},
   "outputs": [
    {
     "name": "stdout",
     "output_type": "stream",
     "text": [
      "Reconstructing...\n"
     ]
    }
   ],
   "source": [
    "# Creates a 3d array of zeroes\n",
    "summed = np.uint8(np.zeros((imgH + cropPadSide, imgW, imgH + cropPadSide)))\n",
    "[L,W,H]= summed.shape\n",
    "\n",
    "print(\"Reconstructing...\")"
   ]
  },
  {
   "cell_type": "code",
   "execution_count": 12,
   "metadata": {},
   "outputs": [
    {
     "data": {
      "text/plain": [
       "'\\nfilename = nf[0]\\nrawImg1 = np.array(cv2.imread(filename, cv2.IMREAD_GRAYSCALE))\\nrawImg2 = np.array(cv2.imread(filename))\\n\\nrawImg = np.array(rawImg1)\\nrow, col = rawImg.shape\\n\\nfor row in range(0, int(row)):\\n    for col in range(0, int(col)):\\n        if (rawImg1[row][col] != (rawImg2[row][col])[0]):\\n            print(\"Failed\")\\n            break\\n'"
      ]
     },
     "execution_count": 12,
     "metadata": {},
     "output_type": "execute_result"
    }
   ],
   "source": [
    "# Testing to see if the grayscaled image is the same as the\n",
    "# non-grayscaeled image\n",
    "\n",
    "'''\n",
    "filename = nf[0]\n",
    "rawImg1 = np.array(cv2.imread(filename, cv2.IMREAD_GRAYSCALE))\n",
    "rawImg2 = np.array(cv2.imread(filename))\n",
    "\n",
    "rawImg = np.array(rawImg1)\n",
    "row, col = rawImg.shape\n",
    "\n",
    "for row in range(0, int(row)):\n",
    "    for col in range(0, int(col)):\n",
    "        if (rawImg1[row][col] != (rawImg2[row][col])[0]):\n",
    "            print(\"Failed\")\n",
    "            break\n",
    "'''"
   ]
  },
  {
   "cell_type": "code",
   "execution_count": 25,
   "metadata": {
    "scrolled": true
   },
   "outputs": [
    {
     "name": "stdout",
     "output_type": "stream",
     "text": [
      "Before rotate\n",
      "(620, 640, 7)\n",
      "After rotate\n",
      "(620, 640, 12)\n",
      "0\n",
      "229\n",
      "Slice number: 1\n",
      "Before rotate\n",
      "(620, 640, 7)\n",
      "After rotate\n",
      "(620, 640, 7)\n",
      "229\n",
      "223\n",
      "Slice number: 2\n"
     ]
    }
   ],
   "source": [
    "# vvv\n",
    "# vvv\n",
    "# vvv\n",
    "# REMINDER DO SUBTRACT 1 FOR THE ARRAYS SINCE MATLAB INDEXES FROM 1\n",
    "# MATLAB LOOPS TO END INCLUSIVE\n",
    "# ^^^\n",
    "# ^^^\n",
    "# ^^^\n",
    "\n",
    "startPix = 0\n",
    "\n",
    "def rotate_image(image, angle):\n",
    "    image_center = tuple(np.array(image.shape[1::-1]) / 2)\n",
    "    rot_mat = cv2.getRotationMatrix2D(image_center, angle, 1.0)\n",
    "    result = cv2.warpAffine(image, rot_mat, image.shape[1::-1], flags=cv2.INTER_LINEAR)\n",
    "    return result\n",
    "\n",
    "# for i in range(0, numSlices, interval):\n",
    "for i in range(0, interval * 2, interval):\n",
    "    filename = nf[i]\n",
    "    rawImg = np.array(cv2.imread(filename, cv2.IMREAD_GRAYSCALE))\n",
    "    \n",
    "    # Size of the image before cropping - always 480x640\n",
    "    SImg1 = rawImg.shape\n",
    "    height, width = rawImg.shape\n",
    "    \n",
    "    # if (adjust == 1):\n",
    "        # rawImg = imguidedfilter()\n",
    "        # rawImg = imadjust()\n",
    "    \n",
    "    if (crop == 1):\n",
    "        if (probeID == 512):\n",
    "            rawImg[0: cropTop - 1, : ] = 0\n",
    "            rawImg[cropBottom - 1: height - 1, : ] = 0\n",
    "            # Make a much smaller raw image after cropping\n",
    "            # the top and the bottom components\n",
    "            rawImg = rawImg[ : , startPix : startPix + imgW]\n",
    "    \n",
    "    # Crop the image into a triangle/cone shape while cutting off the sides\n",
    "    # Use top width and bottom width and shave off the sides\n",
    "    # of the image turning it into a polygon\n",
    "    if (probeID == 512):\n",
    "        for q in range(0, imgH):\n",
    "            cropTriangle = round(imgW / 2 - (m * q + b))\n",
    "            rawImg[q, 0 : cropTriangle - 1] = 0\n",
    "            rawImg[q, imgW - cropTriangle - 1: imgW - 1] = 0\n",
    "    elif (probeID == 256):\n",
    "        for q in range(0, imgH):\n",
    "            cropSide = round(imgW / 2 - b)\n",
    "            rawImg[q, 0 : cropSide - 1] = 0\n",
    "            rawImg[q, imgW - cropSide - 1: imgW - 1] = 0\n",
    "    \n",
    "    # Filtering using an averaging method to make brightness - 1\n",
    "    # for bad areas\n",
    "    # rawImg[0, : ] = -1\n",
    "    rawImg[0, : ] = 0\n",
    "    \n",
    "    # New width and height in case rawImg got cropped\n",
    "    height, width = rawImg.shape\n",
    "    \n",
    "    # Filtering using an averaging method to make brightness -1 for all bad areas\n",
    "    for k in range(0, width):\n",
    "        for m in range(0, height - 6):\n",
    "            if ((rawImg[m + 6 - 1, k - 1] / 7 + rawImg[m + 5 - 1, k - 1] / 7 +\n",
    "               rawImg[m + 4 - 1, k - 1] / 7 + rawImg[m + 3 - 1, k - 1] / 7 +\n",
    "               rawImg[m + 2 - 1, k - 1] / 7 + rawImg[m + 1 - 1, k - 1] / 7) > 90):\n",
    "                break\n",
    "            # rawImg[m - 1, k - 1] = -1\n",
    "            rawImg[m - 1, k - 1] = 0\n",
    "            \n",
    "    # Size of raw image after the cropping\n",
    "    SImg2 = rawImg.shape\n",
    "    \n",
    "    # Only PadSide for 16cm arrays and greater\n",
    "    # Initialize 3d array to contain slice\n",
    "    temp = np.uint8(np.zeros((imgH + cropPadSide, imgW, (2 * thic) + 1)))\n",
    "    \n",
    "    for j in range(-thic - 1, thic):\n",
    "        if (padSide == 0):\n",
    "            temp[ : , : , thic + 1 + j - 1] = np.vstack((rawImg, np.zeros((cropPadSide, imgW))))\n",
    "        else:\n",
    "            temp[ : , : , thic + 1 + j - 1] = np.vstack((np.zeros((cropPadSide, imgW)), rawImg))\n",
    "            \n",
    "    print(\"Before rotate\")\n",
    "    print(temp.shape)\n",
    "            \n",
    "    # Permute 3d slice, rotate about vertical axis, permute back\n",
    "    theta = rotInc * (i - 1)\n",
    "    # temp = np.transpose(skimage.transform.rotate(np.transpose(temp, (0, 2, 1)), theta), (0, 2, 1)) \n",
    "    temp = np.transpose(ndimage.rotate(np.transpose(temp, (0, 2, 1)), theta), (0, 2, 1)) \n",
    "    \n",
    "    print(\"After rotate\")\n",
    "    print(temp.shape)\n",
    "    \n",
    "    L2, W2, H2 = temp.shape\n",
    "    \n",
    "    if (L2 > L):\n",
    "        temp = temp[0: L - 1, : , : ]\n",
    "        L2 = L\n",
    "    if (H2 > H):\n",
    "        temp = temp[ : , : , 0: H - 1]\n",
    "        \n",
    "    off1 = math.floor((L - L2) / 2)\n",
    "    off2 = math.floor((H - H2) / 2)\n",
    "    \n",
    "    # Getting the max value from summed[0 + off1: L2 - 1 + off1, : , 0 + off2: H2 - 1 + off2]\n",
    "    # and placing that value for all summed[0 + off1: L2 - 1 + off1, : , 0 + off2: H2 - 1 + off2]\n",
    "    max_value = np.amax(summed[0 + off1: L2 + off1, : , 0 + off2: H2 + off2])\n",
    "    \n",
    "    print(max_value)\n",
    "    print(np.max(temp))\n",
    "    \n",
    "    summed[0 + off1: L2 + off1, : , 0 + off2: H2 + off2] = np.maximum(max_value, temp)\n",
    "    \n",
    "    # Output slice number\n",
    "    print(\"Slice number: \" + str(i + 1))"
   ]
  },
  {
   "cell_type": "code",
   "execution_count": 49,
   "metadata": {
    "scrolled": true
   },
   "outputs": [
    {
     "name": "stdout",
     "output_type": "stream",
     "text": [
      "Outputting New Slices...\n"
     ]
    }
   ],
   "source": [
    "# Export the newly created slices\n",
    "nanInd = np.isnan(summed)\n",
    "# summed2 = summed.astype('float32') # 32 bit vs 64 bit - less memory used\n",
    "# summed2[nanInd] = -1000\n",
    "\n",
    "convert = np.amax(np.amax(np.amax(summed))) / 255\n",
    "\n",
    "# Creating X,Y, and Z folders and putting the sliced images into those\n",
    "print(\"Outputting New Slices...\")"
   ]
  },
  {
   "cell_type": "code",
   "execution_count": null,
   "metadata": {},
   "outputs": [],
   "source": [
    "# Creating SlicesZ\n",
    "# This block of code transposes summed before getting the for loops\n",
    "# Does a 3d tranpose\n",
    "\n",
    "try:\n",
    "    os.mkdir(direc + \"NewSlicesZ\")\n",
    "except FileExistsError as e:\n",
    "    print(\"NewSlicesZ was already created.\")\n",
    "    \n",
    "summed1 = np.transpose(summed, (0, 2, 1))\n",
    "L, W, H = summed1.shape\n",
    "\n",
    "for j in range(0, W):\n",
    "    filename2 = direc + \"NewSlicesZ/\" + \"Image_\" + '{0:03}'.format(j) + \".bmp\"\n",
    "    cv2.imwrite(filename2, summed1[ : , j, : ])\n",
    "\n",
    "# Creating SlicesX\n",
    "try:\n",
    "    os.mkdir(direc + \"NewSlicesX\")\n",
    "except FileExistsError as e:\n",
    "    print(\"NewSlicesX was already created.\")\n",
    "\n",
    "summed2 = np.transpose(summed, (1, 0, 2))\n",
    "L, W, H = summed2.shape\n",
    "\n",
    "for j in range(0, H):\n",
    "    filename2 = direc + \"NewSlicesX/\" + \"Image_\" + '{0:03}'.format(j) + \".bmp\"\n",
    "    cv2.imwrite(filename2, summed2[ : , : , j])\n",
    "\n",
    "# Creating SlicesY\n",
    "try:\n",
    "    os.mkdir(direc + \"NewSlicesY\")\n",
    "except FileExistsError as e:\n",
    "    print(\"NewSlicesY was already created.\")\n",
    "\n",
    "summed3 = np.transpose(summed, (1, 2, 0))\n",
    "L, W, H = summed3.shape\n",
    "\n",
    "for j in range(0, L):\n",
    "    filename2 = direc + \"NewSlicesY/\" + \"Image_\" + '{0:03}'.format(j) + \".bmp\"\n",
    "    cv2.imwrite(filename2, summed3[j , : , :])"
   ]
  },
  {
   "cell_type": "code",
   "execution_count": 50,
   "metadata": {},
   "outputs": [
    {
     "name": "stdout",
     "output_type": "stream",
     "text": [
      "NewSlicesZ was already created.\n",
      "NewSlicesX was already created.\n",
      "NewSlicesY was already created.\n",
      "620\n",
      "(620, 640, 620)\n"
     ]
    }
   ],
   "source": [
    "# Creating SlicesZ\n",
    "# This block of code transposes summed in the for loop\n",
    "# Does a 2d transpose\n",
    "try:\n",
    "    os.mkdir(direc + \"NewSlicesZ\")\n",
    "except FileExistsError as e:\n",
    "    print(\"NewSlicesZ was already created.\")\n",
    "    \n",
    "for j in range(0, W):\n",
    "    filename2 = direc + \"NewSlicesZ/\" + \"Image_\" + '{0:03}'.format(j) + \".bmp\"\n",
    "    cv2.imwrite(filename2, np.transpose(summed[ : , j, : ], (1, 0)))\n",
    "    \n",
    "# Creating SlicesX\n",
    "try:\n",
    "    os.mkdir(direc + \"NewSlicesX\")\n",
    "except FileExistsError as e:\n",
    "    print(\"NewSlicesX was already created.\")\n",
    "    \n",
    "for j in range(0, H):\n",
    "    filename2 = direc + \"NewSlicesX/\" + \"Image_\" + '{0:03}'.format(j) + \".bmp\"\n",
    "    cv2.imwrite(filename2, np.transpose(summed[ : , : , j], (1, 0)))\n",
    "\n",
    "# Creating SlicesY\n",
    "try:\n",
    "    os.mkdir(direc + \"NewSlicesY\")\n",
    "except FileExistsError as e:\n",
    "    print(\"NewSlicesY was already created.\")\n",
    "    \n",
    "for j in range(0, L):\n",
    "    filename2 = direc + \"NewSlicesY/\" + \"Image_\" + '{0:03}'.format(j) + \".bmp\"\n",
    "    cv2.imwrite(filename2, np.transpose(summed[j , : , :], (1, 0)))"
   ]
  }
 ],
 "metadata": {
  "kernelspec": {
   "display_name": "Python 3",
   "language": "python",
   "name": "python3"
  },
  "language_info": {
   "codemirror_mode": {
    "name": "ipython",
    "version": 3
   },
   "file_extension": ".py",
   "mimetype": "text/x-python",
   "name": "python",
   "nbconvert_exporter": "python",
   "pygments_lexer": "ipython3",
   "version": "3.8.3"
  }
 },
 "nbformat": 4,
 "nbformat_minor": 4
}
